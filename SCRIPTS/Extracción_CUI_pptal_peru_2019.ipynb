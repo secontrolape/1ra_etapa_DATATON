{
  "nbformat": 4,
  "nbformat_minor": 0,
  "metadata": {
    "colab": {
      "name": "Ejecucion_pptal_peru_2019.ipynb",
      "provenance": []
    },
    "kernelspec": {
      "name": "python3",
      "display_name": "Python 3"
    },
    "language_info": {
      "name": "python"
    }
  },
  "cells": [
    {
      "cell_type": "markdown",
      "source": [
        "# 1.- DESCARGAMOS EL ARCHIVO DE LA EJECUCIÓN PRESUPUESTAL DEL PORTAL DE DATOS ABIERTOS DEL GOBIERNO"
      ],
      "metadata": {
        "id": "XjdvKudSoAcq"
      }
    },
    {
      "cell_type": "code",
      "metadata": {
        "id": "BZEAFye30gua"
      },
      "source": [
        "# Para descargar archivos rar\n",
        "!wget [...]\n",
        "!pip install unrar\n",
        "!unrar x [ruta]"
      ],
      "execution_count": null,
      "outputs": []
    },
    {
      "cell_type": "code",
      "metadata": {
        "colab": {
          "base_uri": "https://localhost:8080/"
        },
        "id": "M4l1PNQ6xb5f",
        "outputId": "bcf20955-8405-4607-da03-3089cda1d174"
      },
      "source": [
        "# Para archivos zip\n",
        "!wget https://www.datosabiertos.gob.pe/sites/default/files/2019-Gasto.zip\n",
        "!unzip /content/2019-Gasto.zip"
      ],
      "execution_count": null,
      "outputs": [
        {
          "output_type": "stream",
          "name": "stdout",
          "text": [
            "--2022-02-15 14:02:05--  https://www.datosabiertos.gob.pe/sites/default/files/2019-Gasto.zip\n",
            "Resolving www.datosabiertos.gob.pe (www.datosabiertos.gob.pe)... 190.239.28.173\n",
            "Connecting to www.datosabiertos.gob.pe (www.datosabiertos.gob.pe)|190.239.28.173|:443... connected.\n",
            "HTTP request sent, awaiting response... 200 OK\n",
            "Length: 333271685 (318M) [application/zip]\n",
            "Saving to: ‘2019-Gasto.zip’\n",
            "\n",
            "2019-Gasto.zip      100%[===================>] 317.83M  1.05MB/s    in 7m 29s  \n",
            "\n",
            "2022-02-15 14:09:36 (725 KB/s) - ‘2019-Gasto.zip’ saved [333271685/333271685]\n",
            "\n",
            "Archive:  /content/2019-Gasto.zip\n",
            "  inflating: 2019.csv                \n"
          ]
        }
      ]
    },
    {
      "cell_type": "code",
      "metadata": {
        "colab": {
          "base_uri": "https://localhost:8080/"
        },
        "id": "MpvlfzMV3TQq",
        "outputId": "62e1d0e7-252a-40f3-c1ca-dad022cc5840"
      },
      "source": [
        "import pandas as pd\n",
        "ppto = pd.read_csv(\"/content/2019.csv\")\n",
        "\n",
        "# Seleccionamos el \"programa presupuestal\" referido al PROGRAMA ARTICULADO NUTRICIONAL que es el identificador 1\n",
        "ppto_pan = ppto[ppto[\"PROGRAMA_PPTO\"] == 1.0]\n",
        "\n",
        "# Seleccionamos el departamento donde se gasta que para nuestro caso sera CUSCO que es el identificador 8\n",
        "ppto_pan_cusco_ejec = ppto_pan[ppto_pan[\"DEPARTAMENTO_EJECUTORA\"] == 8]\n",
        "ppto_pan_cusco_ejec.to_csv('/content/ppto2019_pan_cusco_ejec.csv')"
      ],
      "execution_count": null,
      "outputs": [
        {
          "output_type": "stream",
          "name": "stderr",
          "text": [
            "/usr/local/lib/python3.7/dist-packages/IPython/core/interactiveshell.py:2718: DtypeWarning: Columns (0,40) have mixed types.Specify dtype option on import or set low_memory=False.\n",
            "  interactivity=interactivity, compiler=compiler, result=result)\n"
          ]
        }
      ]
    },
    {
      "cell_type": "markdown",
      "source": [
        "# 2.- Extracción de los CUI de las regiones de Perú"
      ],
      "metadata": {
        "id": "x-HWRq9LyN-m"
      }
    },
    {
      "cell_type": "code",
      "source": [
        "import pandas as pd\n",
        "ppto = pd.read_csv(\"/content/2019.csv\")"
      ],
      "metadata": {
        "colab": {
          "base_uri": "https://localhost:8080/"
        },
        "id": "gSc4x5fZwOG8",
        "outputId": "ad0d9609-cfb6-4e27-e0d6-aab42fc6dc1d"
      },
      "execution_count": null,
      "outputs": [
        {
          "output_type": "stream",
          "name": "stderr",
          "text": [
            "/usr/local/lib/python3.7/dist-packages/IPython/core/interactiveshell.py:2882: DtypeWarning: Columns (0,40) have mixed types.Specify dtype option on import or set low_memory=False.\n",
            "  exec(code_obj, self.user_global_ns, self.user_ns)\n"
          ]
        }
      ]
    },
    {
      "cell_type": "code",
      "source": [
        "region = [1, 2, 3, 4, 5, 6, 7, 8, 9, 10, 11, 12, 13, 14, 15, 16, 17, 18, 19, 20, 21, 22, 23, 24, 25]"
      ],
      "metadata": {
        "id": "Dr--THEXyYaN"
      },
      "execution_count": null,
      "outputs": []
    },
    {
      "cell_type": "code",
      "source": [
        "for i in region: \n",
        "  ppto_prod = ppto[ppto[\"DEPARTAMENTO_EJECUTORA\"] == i]\n",
        "  ppto_prod_ = ppto_prod.groupby('PRODUCTO_PROYECTO')['PRODUCTO_PROYECTO'].count()\n",
        "  string = str(i)\n",
        "  ppto_prod_.to_excel('/content/CUI_2019_dep'+string+'.xlsx')\n",
        "\n"
      ],
      "metadata": {
        "id": "C5hCxZ7qylts"
      },
      "execution_count": null,
      "outputs": []
    },
    {
      "cell_type": "code",
      "source": [
        "# EXTRAEMOS CODIGOS CUI DE LOS PROYECTOS - año 2019\n",
        "ppto_productos = ppto.groupby('PRODUCTO_PROYECTO')['PRODUCTO_PROYECTO'].count()\n",
        "ppto_productos.shape\n",
        "\n",
        "ppto_productos.to_excel('/content/CUI_2019_dep.xlsx')"
      ],
      "metadata": {
        "id": "G6gVFHKvjodl",
        "colab": {
          "base_uri": "https://localhost:8080/"
        },
        "outputId": "d9579a34-2779-4e84-88b1-57cf4d2b4ad4"
      },
      "execution_count": null,
      "outputs": [
        {
          "output_type": "stream",
          "name": "stderr",
          "text": [
            "/usr/local/lib/python3.7/dist-packages/ipykernel_launcher.py:2: FutureWarning: Indexing with multiple keys (implicitly converted to a tuple of keys) will be deprecated, use a list instead.\n",
            "  \n"
          ]
        }
      ]
    },
    {
      "cell_type": "code",
      "source": [
        ""
      ],
      "metadata": {
        "id": "iqDNC58CyIUG"
      },
      "execution_count": null,
      "outputs": []
    },
    {
      "cell_type": "code",
      "metadata": {
        "id": "RaCBSUr1y311"
      },
      "source": [
        "from os import remove\n",
        "remove ('/content/2019-Gasto.zip')\n",
        "remove ('/content/2019.csv')\n",
        "remove ('/content/ppto2019_pan_cusco_ejec.csv')\n",
        "remove ('/content/CUI_2019.csv')"
      ],
      "execution_count": null,
      "outputs": []
    }
  ]
}