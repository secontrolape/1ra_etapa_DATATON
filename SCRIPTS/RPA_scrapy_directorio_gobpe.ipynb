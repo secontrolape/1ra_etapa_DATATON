{
 "cells": [
  {
   "cell_type": "code",
   "execution_count": 1,
   "id": "f280f3db",
   "metadata": {},
   "outputs": [],
   "source": [
    "import pandas as pd\n",
    "import rpa as r\n",
    "import time\n",
    "import os"
   ]
  },
  {
   "cell_type": "code",
   "execution_count": 10,
   "id": "f1cdd2c6",
   "metadata": {},
   "outputs": [
    {
     "data": {
      "text/plain": [
       "True"
      ]
     },
     "execution_count": 10,
     "metadata": {},
     "output_type": "execute_result"
    }
   ],
   "source": [
    "r.init()"
   ]
  },
  {
   "cell_type": "code",
   "execution_count": 3,
   "id": "3ddbb1fd",
   "metadata": {},
   "outputs": [
    {
     "name": "stdout",
     "output_type": "stream",
     "text": [
      "[RPA][ERROR] - cannot find //*[@id=\"officials-card\"]/li[11]/div/div/div/div/div/a/h3\n",
      "[RPA][ERROR] - cannot find //*[@id=\"officials-card\"]/li[11]/div/div/div/div/div/h3\n",
      "[RPA][ERROR] - cannot find //*[@id=\"officials-card\"]/li[12]/div/div/div/div/div/a/h3\n",
      "[RPA][ERROR] - cannot find //*[@id=\"officials-card\"]/li[12]/div/div/div/div/div/h3\n",
      "[RPA][ERROR] - cannot find //*[@id=\"officials-card\"]/li[13]/div/div/div/div/div/a/h3\n",
      "[RPA][ERROR] - cannot find //*[@id=\"officials-card\"]/li[13]/div/div/div/div/div/h3\n",
      "[RPA][ERROR] - cannot find //*[@id=\"officials-card\"]/li[14]/div/div/div/div/div/a/h3\n",
      "[RPA][ERROR] - cannot find //*[@id=\"officials-card\"]/li[14]/div/div/div/div/div/h3\n",
      "[RPA][ERROR] - cannot find //*[@id=\"officials-card\"]/li[15]/div/div/div/div/div/a/h3\n",
      "[RPA][ERROR] - cannot find //*[@id=\"officials-card\"]/li[15]/div/div/div/div/div/h3\n",
      "[RPA][ERROR] - cannot find //*[@id=\"officials-card\"]/li[16]/div/div/div/div/div/a/h3\n",
      "[RPA][ERROR] - cannot find //*[@id=\"officials-card\"]/li[16]/div/div/div/div/div/h3\n",
      "[RPA][ERROR] - cannot find //*[@id=\"officials-card\"]/li[17]/div/div/div/div/div/a/h3\n",
      "[RPA][ERROR] - cannot find //*[@id=\"officials-card\"]/li[17]/div/div/div/div/div/h3\n",
      "[RPA][ERROR] - cannot find //*[@id=\"officials-card\"]/li[18]/div/div/div/div/div/a/h3\n",
      "[RPA][ERROR] - cannot find //*[@id=\"officials-card\"]/li[18]/div/div/div/div/div/h3\n",
      "[RPA][ERROR] - cannot find //*[@id=\"officials-card\"]/li[19]/div/div/div/div/div/a/h3\n",
      "[RPA][ERROR] - cannot find //*[@id=\"officials-card\"]/li[19]/div/div/div/div/div/h3\n",
      "[RPA][ERROR] - cannot find //*[@id=\"officials-card\"]/li[20]/div/div/div/div/div/a/h3\n",
      "[RPA][ERROR] - cannot find //*[@id=\"officials-card\"]/li[20]/div/div/div/div/div/h3\n",
      "[RPA][ERROR] - cannot find //*[@id=\"officials-card\"]/li[11]/div/div/div/div/div/a/h3\n",
      "[RPA][ERROR] - cannot find //*[@id=\"officials-card\"]/li[11]/div/div/div/div/div/h3\n",
      "[RPA][ERROR] - cannot find //*[@id=\"officials-card\"]/li[12]/div/div/div/div/div/a/h3\n",
      "[RPA][ERROR] - cannot find //*[@id=\"officials-card\"]/li[12]/div/div/div/div/div/h3\n",
      "[RPA][ERROR] - cannot find //*[@id=\"officials-card\"]/li[13]/div/div/div/div/div/a/h3\n",
      "[RPA][ERROR] - cannot find //*[@id=\"officials-card\"]/li[13]/div/div/div/div/div/h3\n",
      "[RPA][ERROR] - cannot find //*[@id=\"officials-card\"]/li[14]/div/div/div/div/div/a/h3\n",
      "[RPA][ERROR] - cannot find //*[@id=\"officials-card\"]/li[14]/div/div/div/div/div/h3\n",
      "[RPA][ERROR] - cannot find //*[@id=\"officials-card\"]/li[15]/div/div/div/div/div/a/h3\n",
      "[RPA][ERROR] - cannot find //*[@id=\"officials-card\"]/li[15]/div/div/div/div/div/h3\n",
      "[RPA][ERROR] - cannot find //*[@id=\"officials-card\"]/li[16]/div/div/div/div/div/a/h3\n",
      "[RPA][ERROR] - cannot find //*[@id=\"officials-card\"]/li[16]/div/div/div/div/div/h3\n",
      "[RPA][ERROR] - cannot find //*[@id=\"officials-card\"]/li[17]/div/div/div/div/div/a/h3\n",
      "[RPA][ERROR] - cannot find //*[@id=\"officials-card\"]/li[17]/div/div/div/div/div/h3\n",
      "[RPA][ERROR] - cannot find //*[@id=\"officials-card\"]/li[18]/div/div/div/div/div/a/h3\n",
      "[RPA][ERROR] - cannot find //*[@id=\"officials-card\"]/li[18]/div/div/div/div/div/h3\n",
      "[RPA][ERROR] - cannot find //*[@id=\"officials-card\"]/li[19]/div/div/div/div/div/a/h3\n",
      "[RPA][ERROR] - cannot find //*[@id=\"officials-card\"]/li[19]/div/div/div/div/div/h3\n",
      "[RPA][ERROR] - cannot find //*[@id=\"officials-card\"]/li[20]/div/div/div/div/div/a/h3\n",
      "[RPA][ERROR] - cannot find //*[@id=\"officials-card\"]/li[20]/div/div/div/div/div/h3\n",
      "[RPA][ERROR] - cannot find //*[@id=\"officials-card\"]/li[11]/div/div/div/div/div/a/h3\n",
      "[RPA][ERROR] - cannot find //*[@id=\"officials-card\"]/li[11]/div/div/div/div/div/h3\n",
      "[RPA][ERROR] - cannot find //*[@id=\"officials-card\"]/li[12]/div/div/div/div/div/a/h3\n",
      "[RPA][ERROR] - cannot find //*[@id=\"officials-card\"]/li[12]/div/div/div/div/div/h3\n",
      "[RPA][ERROR] - cannot find //*[@id=\"officials-card\"]/li[13]/div/div/div/div/div/a/h3\n",
      "[RPA][ERROR] - cannot find //*[@id=\"officials-card\"]/li[13]/div/div/div/div/div/h3\n",
      "[RPA][ERROR] - cannot find //*[@id=\"officials-card\"]/li[14]/div/div/div/div/div/a/h3\n",
      "[RPA][ERROR] - cannot find //*[@id=\"officials-card\"]/li[14]/div/div/div/div/div/h3\n",
      "[RPA][ERROR] - cannot find //*[@id=\"officials-card\"]/li[15]/div/div/div/div/div/a/h3\n",
      "[RPA][ERROR] - cannot find //*[@id=\"officials-card\"]/li[15]/div/div/div/div/div/h3\n",
      "[RPA][ERROR] - cannot find //*[@id=\"officials-card\"]/li[16]/div/div/div/div/div/a/h3\n",
      "[RPA][ERROR] - cannot find //*[@id=\"officials-card\"]/li[16]/div/div/div/div/div/h3\n",
      "[RPA][ERROR] - cannot find //*[@id=\"officials-card\"]/li[17]/div/div/div/div/div/a/h3\n",
      "[RPA][ERROR] - cannot find //*[@id=\"officials-card\"]/li[17]/div/div/div/div/div/h3\n",
      "[RPA][ERROR] - cannot find //*[@id=\"officials-card\"]/li[18]/div/div/div/div/div/a/h3\n",
      "[RPA][ERROR] - cannot find //*[@id=\"officials-card\"]/li[18]/div/div/div/div/div/h3\n",
      "[RPA][ERROR] - cannot find //*[@id=\"officials-card\"]/li[19]/div/div/div/div/div/a/h3\n",
      "[RPA][ERROR] - cannot find //*[@id=\"officials-card\"]/li[19]/div/div/div/div/div/h3\n",
      "[RPA][ERROR] - cannot find //*[@id=\"officials-card\"]/li[20]/div/div/div/div/div/a/h3\n",
      "[RPA][ERROR] - cannot find //*[@id=\"officials-card\"]/li[20]/div/div/div/div/div/h3\n"
     ]
    },
    {
     "data": {
      "text/plain": [
       "True"
      ]
     },
     "execution_count": 3,
     "metadata": {},
     "output_type": "execute_result"
    }
   ],
   "source": [
    "gob_name  = []\n",
    "gob_cargo = []\n",
    "\n",
    "n_tarjetas   = 20\n",
    "n_click = 3\n",
    "n_tarjetas_page = 20\n",
    "\n",
    "def createList(k1,k2):\n",
    "    return [item for item in range(k1, k2+1)]\n",
    "\n",
    "k1, k2 = 1, n_click\n",
    "click_i = createList(k1, k2)\n",
    "click_i = list(map(str, click_i))\n",
    "\n",
    "def createList(r1,r2):\n",
    "    return [item for item in range(r1, r2+1)]\n",
    "\n",
    "for k in range(len(click_i)):\n",
    "    print(k)\n",
    "    r.url('https://www.gob.pe/institucion/regioncusco/funcionarios?sheet='+click_i[k]+'')\n",
    "    time.sleep(3)\n",
    "\n",
    "    for j in n_tarjetas_page:\n",
    "        # Driver Code\n",
    "        r1, r2 = 1, j\n",
    "        lista_i = createList(r1, r2)\n",
    "        lista_i = list(map(str, lista_i))\n",
    "\n",
    "        for i in range(len(lista_i)):\n",
    "            time.sleep(2)\n",
    "            name =  r.read('//*[@id=\"officials-card\"]/li['+lista_i[i]+']/div/div/div/div/div/a/h3')\n",
    "            cargo = r.read('//*[@id=\"officials-card\"]/li['+lista_i[i]+']/div/div/div/div/div/h3')\n",
    "\n",
    "            gob_name.append(name)\n",
    "            gob_cargo.append(cargo)\n",
    "            time.sleep(1)\n",
    "\n",
    "r.close() "
   ]
  },
  {
   "cell_type": "code",
   "execution_count": 8,
   "id": "497d87cd",
   "metadata": {},
   "outputs": [
    {
     "data": {
      "text/plain": [
       "(180, 2)"
      ]
     },
     "execution_count": 8,
     "metadata": {},
     "output_type": "execute_result"
    }
   ],
   "source": [
    "# creamos el DataFrame\n",
    "directorio = pd.DataFrame({ \"nombres\" :gob_name, \n",
    "                            \"cargo\"   :gob_cargo,\n",
    "                         })\n",
    "directorio.head(70)\n",
    "directorio.shape"
   ]
  },
  {
   "cell_type": "code",
   "execution_count": 1,
   "id": "8f31ca56",
   "metadata": {},
   "outputs": [
    {
     "ename": "NameError",
     "evalue": "name 'r' is not defined",
     "output_type": "error",
     "traceback": [
      "\u001b[1;31m---------------------------------------------------------------------------\u001b[0m",
      "\u001b[1;31mNameError\u001b[0m                                 Traceback (most recent call last)",
      "\u001b[1;32m<ipython-input-1-377ab15bb25e>\u001b[0m in \u001b[0;36m<module>\u001b[1;34m\u001b[0m\n\u001b[1;32m----> 1\u001b[1;33m \u001b[0mr\u001b[0m\u001b[1;33m.\u001b[0m\u001b[0mclose\u001b[0m\u001b[1;33m(\u001b[0m\u001b[1;33m)\u001b[0m\u001b[1;33m\u001b[0m\u001b[1;33m\u001b[0m\u001b[0m\n\u001b[0m",
      "\u001b[1;31mNameError\u001b[0m: name 'r' is not defined"
     ]
    }
   ],
   "source": [
    "r.close() "
   ]
  },
  {
   "cell_type": "code",
   "execution_count": 9,
   "id": "d097b59f",
   "metadata": {},
   "outputs": [
    {
     "name": "stdout",
     "output_type": "stream",
     "text": [
      "['1', '2', '3']\n"
     ]
    }
   ],
   "source": []
  }
 ],
 "metadata": {
  "kernelspec": {
   "display_name": "Python 3",
   "language": "python",
   "name": "python3"
  },
  "language_info": {
   "codemirror_mode": {
    "name": "ipython",
    "version": 3
   },
   "file_extension": ".py",
   "mimetype": "text/x-python",
   "name": "python",
   "nbconvert_exporter": "python",
   "pygments_lexer": "ipython3",
   "version": "3.8.8"
  }
 },
 "nbformat": 4,
 "nbformat_minor": 5
}
